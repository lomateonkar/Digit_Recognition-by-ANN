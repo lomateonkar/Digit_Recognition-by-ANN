{
 "cells": [
  {
   "cell_type": "code",
   "execution_count": 1,
   "id": "c4a1c005",
   "metadata": {},
   "outputs": [],
   "source": [
    "import pandas as pd\n",
    "import matplotlib.pyplot as plt"
   ]
  },
  {
   "cell_type": "code",
   "execution_count": 2,
   "id": "753df7a0",
   "metadata": {},
   "outputs": [],
   "source": [
    "df = pd.read_csv('../../datasets/digit_recognition/train.csv')"
   ]
  },
  {
   "cell_type": "code",
   "execution_count": 3,
   "id": "f9690b00",
   "metadata": {},
   "outputs": [
    {
     "data": {
      "text/plain": [
       "(42000, 785)"
      ]
     },
     "execution_count": 3,
     "metadata": {},
     "output_type": "execute_result"
    }
   ],
   "source": [
    "df.shape"
   ]
  },
  {
   "cell_type": "code",
   "execution_count": 4,
   "id": "d43bcb45",
   "metadata": {},
   "outputs": [
    {
     "data": {
      "text/html": [
       "<div>\n",
       "<style scoped>\n",
       "    .dataframe tbody tr th:only-of-type {\n",
       "        vertical-align: middle;\n",
       "    }\n",
       "\n",
       "    .dataframe tbody tr th {\n",
       "        vertical-align: top;\n",
       "    }\n",
       "\n",
       "    .dataframe thead th {\n",
       "        text-align: right;\n",
       "    }\n",
       "</style>\n",
       "<table border=\"1\" class=\"dataframe\">\n",
       "  <thead>\n",
       "    <tr style=\"text-align: right;\">\n",
       "      <th></th>\n",
       "      <th>label</th>\n",
       "      <th>pixel0</th>\n",
       "      <th>pixel1</th>\n",
       "      <th>pixel2</th>\n",
       "      <th>pixel3</th>\n",
       "      <th>pixel4</th>\n",
       "      <th>pixel5</th>\n",
       "      <th>pixel6</th>\n",
       "      <th>pixel7</th>\n",
       "      <th>pixel8</th>\n",
       "      <th>...</th>\n",
       "      <th>pixel774</th>\n",
       "      <th>pixel775</th>\n",
       "      <th>pixel776</th>\n",
       "      <th>pixel777</th>\n",
       "      <th>pixel778</th>\n",
       "      <th>pixel779</th>\n",
       "      <th>pixel780</th>\n",
       "      <th>pixel781</th>\n",
       "      <th>pixel782</th>\n",
       "      <th>pixel783</th>\n",
       "    </tr>\n",
       "  </thead>\n",
       "  <tbody>\n",
       "    <tr>\n",
       "      <th>0</th>\n",
       "      <td>1</td>\n",
       "      <td>0</td>\n",
       "      <td>0</td>\n",
       "      <td>0</td>\n",
       "      <td>0</td>\n",
       "      <td>0</td>\n",
       "      <td>0</td>\n",
       "      <td>0</td>\n",
       "      <td>0</td>\n",
       "      <td>0</td>\n",
       "      <td>...</td>\n",
       "      <td>0</td>\n",
       "      <td>0</td>\n",
       "      <td>0</td>\n",
       "      <td>0</td>\n",
       "      <td>0</td>\n",
       "      <td>0</td>\n",
       "      <td>0</td>\n",
       "      <td>0</td>\n",
       "      <td>0</td>\n",
       "      <td>0</td>\n",
       "    </tr>\n",
       "    <tr>\n",
       "      <th>1</th>\n",
       "      <td>0</td>\n",
       "      <td>0</td>\n",
       "      <td>0</td>\n",
       "      <td>0</td>\n",
       "      <td>0</td>\n",
       "      <td>0</td>\n",
       "      <td>0</td>\n",
       "      <td>0</td>\n",
       "      <td>0</td>\n",
       "      <td>0</td>\n",
       "      <td>...</td>\n",
       "      <td>0</td>\n",
       "      <td>0</td>\n",
       "      <td>0</td>\n",
       "      <td>0</td>\n",
       "      <td>0</td>\n",
       "      <td>0</td>\n",
       "      <td>0</td>\n",
       "      <td>0</td>\n",
       "      <td>0</td>\n",
       "      <td>0</td>\n",
       "    </tr>\n",
       "    <tr>\n",
       "      <th>2</th>\n",
       "      <td>1</td>\n",
       "      <td>0</td>\n",
       "      <td>0</td>\n",
       "      <td>0</td>\n",
       "      <td>0</td>\n",
       "      <td>0</td>\n",
       "      <td>0</td>\n",
       "      <td>0</td>\n",
       "      <td>0</td>\n",
       "      <td>0</td>\n",
       "      <td>...</td>\n",
       "      <td>0</td>\n",
       "      <td>0</td>\n",
       "      <td>0</td>\n",
       "      <td>0</td>\n",
       "      <td>0</td>\n",
       "      <td>0</td>\n",
       "      <td>0</td>\n",
       "      <td>0</td>\n",
       "      <td>0</td>\n",
       "      <td>0</td>\n",
       "    </tr>\n",
       "    <tr>\n",
       "      <th>3</th>\n",
       "      <td>4</td>\n",
       "      <td>0</td>\n",
       "      <td>0</td>\n",
       "      <td>0</td>\n",
       "      <td>0</td>\n",
       "      <td>0</td>\n",
       "      <td>0</td>\n",
       "      <td>0</td>\n",
       "      <td>0</td>\n",
       "      <td>0</td>\n",
       "      <td>...</td>\n",
       "      <td>0</td>\n",
       "      <td>0</td>\n",
       "      <td>0</td>\n",
       "      <td>0</td>\n",
       "      <td>0</td>\n",
       "      <td>0</td>\n",
       "      <td>0</td>\n",
       "      <td>0</td>\n",
       "      <td>0</td>\n",
       "      <td>0</td>\n",
       "    </tr>\n",
       "    <tr>\n",
       "      <th>4</th>\n",
       "      <td>0</td>\n",
       "      <td>0</td>\n",
       "      <td>0</td>\n",
       "      <td>0</td>\n",
       "      <td>0</td>\n",
       "      <td>0</td>\n",
       "      <td>0</td>\n",
       "      <td>0</td>\n",
       "      <td>0</td>\n",
       "      <td>0</td>\n",
       "      <td>...</td>\n",
       "      <td>0</td>\n",
       "      <td>0</td>\n",
       "      <td>0</td>\n",
       "      <td>0</td>\n",
       "      <td>0</td>\n",
       "      <td>0</td>\n",
       "      <td>0</td>\n",
       "      <td>0</td>\n",
       "      <td>0</td>\n",
       "      <td>0</td>\n",
       "    </tr>\n",
       "  </tbody>\n",
       "</table>\n",
       "<p>5 rows × 785 columns</p>\n",
       "</div>"
      ],
      "text/plain": [
       "   label  pixel0  pixel1  pixel2  pixel3  pixel4  pixel5  pixel6  pixel7  \\\n",
       "0      1       0       0       0       0       0       0       0       0   \n",
       "1      0       0       0       0       0       0       0       0       0   \n",
       "2      1       0       0       0       0       0       0       0       0   \n",
       "3      4       0       0       0       0       0       0       0       0   \n",
       "4      0       0       0       0       0       0       0       0       0   \n",
       "\n",
       "   pixel8  ...  pixel774  pixel775  pixel776  pixel777  pixel778  pixel779  \\\n",
       "0       0  ...         0         0         0         0         0         0   \n",
       "1       0  ...         0         0         0         0         0         0   \n",
       "2       0  ...         0         0         0         0         0         0   \n",
       "3       0  ...         0         0         0         0         0         0   \n",
       "4       0  ...         0         0         0         0         0         0   \n",
       "\n",
       "   pixel780  pixel781  pixel782  pixel783  \n",
       "0         0         0         0         0  \n",
       "1         0         0         0         0  \n",
       "2         0         0         0         0  \n",
       "3         0         0         0         0  \n",
       "4         0         0         0         0  \n",
       "\n",
       "[5 rows x 785 columns]"
      ]
     },
     "execution_count": 4,
     "metadata": {},
     "output_type": "execute_result"
    }
   ],
   "source": [
    "df.head()"
   ]
  },
  {
   "cell_type": "code",
   "execution_count": 22,
   "id": "e0fc49fa",
   "metadata": {},
   "outputs": [],
   "source": [
    "y = df['label']\n",
    "X = df.drop('label', axis=1, inplace=False)"
   ]
  },
  {
   "cell_type": "code",
   "execution_count": 6,
   "id": "cd97e0b5",
   "metadata": {},
   "outputs": [
    {
     "data": {
      "text/plain": [
       "(42000, 784)"
      ]
     },
     "execution_count": 6,
     "metadata": {},
     "output_type": "execute_result"
    }
   ],
   "source": [
    "X.shape"
   ]
  },
  {
   "cell_type": "code",
   "execution_count": 12,
   "id": "128a6879",
   "metadata": {},
   "outputs": [
    {
     "data": {
      "text/plain": [
       "<matplotlib.image.AxesImage at 0x29b4859c280>"
      ]
     },
     "execution_count": 12,
     "metadata": {},
     "output_type": "execute_result"
    },
    {
     "data": {
      "image/png": "[encoded data removed]",
      "text/plain": [
       "<Figure size 640x480 with 1 Axes>"
      ]
     },
     "metadata": {},
     "output_type": "display_data"
    }
   ],
   "source": [
    "img = X.iloc[3].values.reshape(28,28)\n",
    "plt.imshow(img)"
   ]
  },
  {
   "cell_type": "code",
   "execution_count": 13,
   "id": "ba3be324",
   "metadata": {},
   "outputs": [],
   "source": [
    "from sklearn.model_selection import train_test_split"
   ]
  },
  {
   "cell_type": "code",
   "execution_count": 23,
   "id": "884bc3c6",
   "metadata": {},
   "outputs": [],
   "source": [
    "X_train, X_val, y_train, y_val = train_test_split(X,y,test_size=0.2, random_state=18)"
   ]
  },
  {
   "cell_type": "code",
   "execution_count": 15,
   "id": "64c074b4",
   "metadata": {},
   "outputs": [
    {
     "data": {
      "text/plain": [
       "(33600, 784)"
      ]
     },
     "execution_count": 15,
     "metadata": {},
     "output_type": "execute_result"
    }
   ],
   "source": [
    "X_train.shape"
   ]
  },
  {
   "cell_type": "code",
   "execution_count": 24,
   "id": "d2ea7e5b",
   "metadata": {},
   "outputs": [],
   "source": [
    "X_train = X_train/255\n",
    "X_val = X_val/255"
   ]
  },
  {
   "cell_type": "code",
   "execution_count": 25,
   "id": "0b4518a3",
   "metadata": {},
   "outputs": [],
   "source": [
    "from tensorflow.keras.utils import to_categorical"
   ]
  },
  {
   "cell_type": "code",
   "execution_count": 26,
   "id": "bd5f0270",
   "metadata": {},
   "outputs": [],
   "source": [
    "y_train_cat = to_categorical(y_train, num_classes=10)\n",
    "y_val_cat = to_categorical(y_val, num_classes=10)"
   ]
  },
  {
   "cell_type": "markdown",
   "id": "296fc8d3",
   "metadata": {},
   "source": [
    "# Model Building"
   ]
  },
  {
   "cell_type": "code",
   "execution_count": 27,
   "id": "3d34f864",
   "metadata": {},
   "outputs": [],
   "source": [
    "from tensorflow.keras.models import Sequential\n",
    "from tensorflow.keras.layers import Dense"
   ]
  },
  {
   "cell_type": "code",
   "execution_count": 39,
   "id": "2dfca56f",
   "metadata": {},
   "outputs": [],
   "source": [
    "model = Sequential()\n",
    "model.add(Dense(16, activation='relu', input_shape=(784,)))\n",
    "model.add(Dense(16, activation='relu'))\n",
    "model.add(Dense(10, activation='softmax'))\n",
    "\n",
    "model.compile(loss='categorical_crossentropy', metrics=['accuracy'])"
   ]
  },
  {
   "cell_type": "code",
   "execution_count": 40,
   "id": "e74a04d9",
   "metadata": {},
   "outputs": [
    {
     "name": "stdout",
     "output_type": "stream",
     "text": [
      "Model: \"sequential_4\"\n",
      "_________________________________________________________________\n",
      " Layer (type)                Output Shape              Param #   \n",
      "=================================================================\n",
      " dense_12 (Dense)            (None, 16)                12560     \n",
      "                                                                 \n",
      " dense_13 (Dense)            (None, 16)                272       \n",
      "                                                                 \n",
      " dense_14 (Dense)            (None, 10)                170       \n",
      "                                                                 \n",
      "=================================================================\n",
      "Total params: 13,002\n",
      "Trainable params: 13,002\n",
      "Non-trainable params: 0\n",
      "_________________________________________________________________\n"
     ]
    }
   ],
   "source": [
    "model.summary()"
   ]
  },
  {
   "cell_type": "code",
   "execution_count": 41,
   "id": "1c67627f",
   "metadata": {},
   "outputs": [
    {
     "name": "stdout",
     "output_type": "stream",
     "text": [
      "Epoch 1/20\n",
      "525/525 [==============================] - 2s 2ms/step - loss: 0.6835 - accuracy: 0.8031 - val_loss: 0.3243 - val_accuracy: 0.9086\n",
      "Epoch 2/20\n",
      "525/525 [==============================] - 1s 2ms/step - loss: 0.3017 - accuracy: 0.9131 - val_loss: 0.2543 - val_accuracy: 0.9245\n",
      "Epoch 3/20\n",
      "525/525 [==============================] - 1s 2ms/step - loss: 0.2529 - accuracy: 0.9264 - val_loss: 0.2476 - val_accuracy: 0.9239\n",
      "Epoch 4/20\n",
      "525/525 [==============================] - 1s 2ms/step - loss: 0.2275 - accuracy: 0.9334 - val_loss: 0.2154 - val_accuracy: 0.9365\n",
      "Epoch 5/20\n",
      "525/525 [==============================] - 1s 2ms/step - loss: 0.2109 - accuracy: 0.9391 - val_loss: 0.2097 - val_accuracy: 0.9362\n",
      "Epoch 6/20\n",
      "525/525 [==============================] - 1s 2ms/step - loss: 0.1982 - accuracy: 0.9421 - val_loss: 0.2075 - val_accuracy: 0.9364\n",
      "Epoch 7/20\n",
      "525/525 [==============================] - 1s 2ms/step - loss: 0.1892 - accuracy: 0.9453 - val_loss: 0.1960 - val_accuracy: 0.9420\n",
      "Epoch 8/20\n",
      "525/525 [==============================] - 1s 2ms/step - loss: 0.1801 - accuracy: 0.9469 - val_loss: 0.1915 - val_accuracy: 0.9410\n",
      "Epoch 9/20\n",
      "525/525 [==============================] - 1s 2ms/step - loss: 0.1734 - accuracy: 0.9502 - val_loss: 0.1894 - val_accuracy: 0.9448\n",
      "Epoch 10/20\n",
      "525/525 [==============================] - 1s 2ms/step - loss: 0.1669 - accuracy: 0.9518 - val_loss: 0.1984 - val_accuracy: 0.9436\n",
      "Epoch 11/20\n",
      "525/525 [==============================] - 1s 2ms/step - loss: 0.1613 - accuracy: 0.9521 - val_loss: 0.1910 - val_accuracy: 0.9454\n",
      "Epoch 12/20\n",
      "525/525 [==============================] - 1s 2ms/step - loss: 0.1573 - accuracy: 0.9549 - val_loss: 0.1835 - val_accuracy: 0.9477\n",
      "Epoch 13/20\n",
      "525/525 [==============================] - 1s 2ms/step - loss: 0.1522 - accuracy: 0.9559 - val_loss: 0.1844 - val_accuracy: 0.9465\n",
      "Epoch 14/20\n",
      "525/525 [==============================] - 1s 2ms/step - loss: 0.1481 - accuracy: 0.9572 - val_loss: 0.1951 - val_accuracy: 0.9438\n",
      "Epoch 15/20\n",
      "525/525 [==============================] - 1s 2ms/step - loss: 0.1436 - accuracy: 0.9578 - val_loss: 0.1894 - val_accuracy: 0.9451\n",
      "Epoch 16/20\n",
      "525/525 [==============================] - 1s 2ms/step - loss: 0.1401 - accuracy: 0.9597 - val_loss: 0.1897 - val_accuracy: 0.9457\n",
      "Epoch 17/20\n",
      "525/525 [==============================] - 1s 2ms/step - loss: 0.1373 - accuracy: 0.9608 - val_loss: 0.1808 - val_accuracy: 0.9485\n",
      "Epoch 18/20\n",
      "525/525 [==============================] - 1s 2ms/step - loss: 0.1342 - accuracy: 0.9608 - val_loss: 0.1891 - val_accuracy: 0.9456\n",
      "Epoch 19/20\n",
      "525/525 [==============================] - 1s 2ms/step - loss: 0.1318 - accuracy: 0.9616 - val_loss: 0.1923 - val_accuracy: 0.9455\n",
      "Epoch 20/20\n",
      "525/525 [==============================] - 1s 2ms/step - loss: 0.1290 - accuracy: 0.9618 - val_loss: 0.1877 - val_accuracy: 0.9462\n"
     ]
    }
   ],
   "source": [
    "hist = model.fit(X_train,y_train_cat, validation_data=(X_val,y_val_cat), epochs=20, batch_size = 64)"
   ]
  },
  {
   "cell_type": "code",
   "execution_count": 45,
   "id": "afe518eb",
   "metadata": {},
   "outputs": [
    {
     "data": {
      "text/plain": [
       "[<matplotlib.lines.Line2D at 0x29b2607ce20>]"
      ]
     },
     "execution_count": 45,
     "metadata": {},
     "output_type": "execute_result"
    },
    {
     "data": {
      "image/png": "[encoded data removed]",
      "text/plain": [
       "<Figure size 640x480 with 1 Axes>"
      ]
     },
     "metadata": {},
     "output_type": "display_data"
    }
   ],
   "source": [
    "plt.plot(hist.history['loss'], c='blue')\n",
    "plt.plot(hist.history['val_loss'], c='red')"
   ]
  },
  {
   "cell_type": "code",
   "execution_count": 50,
   "id": "f3a8dbc4",
   "metadata": {},
   "outputs": [],
   "source": [
    "ip = X_val.iloc[0].values.reshape(1,784)"
   ]
  },
  {
   "cell_type": "code",
   "execution_count": 53,
   "id": "b3de8da2",
   "metadata": {},
   "outputs": [
    {
     "data": {
      "text/plain": [
       "8"
      ]
     },
     "execution_count": 53,
     "metadata": {},
     "output_type": "execute_result"
    }
   ],
   "source": [
    "model.predict_on_batch(ip).argmax()"
   ]
  },
  {
   "cell_type": "code",
   "execution_count": 54,
   "id": "12466cc1",
   "metadata": {},
   "outputs": [
    {
     "data": {
      "text/plain": [
       "<matplotlib.image.AxesImage at 0x29b262fe880>"
      ]
     },
     "execution_count": 54,
     "metadata": {},
     "output_type": "execute_result"
    },
    {
     "data": {
      "image/png": "[encoded data removed]",
      "text/plain": [
       "<Figure size 640x480 with 1 Axes>"
      ]
     },
     "metadata": {},
     "output_type": "display_data"
    }
   ],
   "source": [
    "plt.imshow(ip.reshape(28,28))"
   ]
  },
  {
   "cell_type": "markdown",
   "id": "39e3ad28",
   "metadata": {},
   "source": [
    "# Predict on own images"
   ]
  },
  {
   "cell_type": "code",
   "execution_count": 55,
   "id": "1dff7074",
   "metadata": {},
   "outputs": [],
   "source": [
    "import cv2"
   ]
  },
  {
   "cell_type": "code",
   "execution_count": 58,
   "id": "410d1e7a",
   "metadata": {},
   "outputs": [],
   "source": [
    "img = cv2.imread('../../datasets/digit_recognition/my_images/0.jpg',0)"
   ]
  },
  {
   "cell_type": "code",
   "execution_count": 59,
   "id": "aacac074",
   "metadata": {},
   "outputs": [
    {
     "data": {
      "text/plain": [
       "array([[0, 0, 0, ..., 0, 0, 0],\n",
       "       [0, 0, 0, ..., 0, 0, 0],\n",
       "       [0, 0, 0, ..., 0, 0, 0],\n",
       "       ...,\n",
       "       [0, 0, 0, ..., 0, 0, 0],\n",
       "       [0, 0, 0, ..., 0, 0, 0],\n",
       "       [0, 0, 0, ..., 0, 0, 0]], dtype=uint8)"
      ]
     },
     "execution_count": 59,
     "metadata": {},
     "output_type": "execute_result"
    }
   ],
   "source": [
    "img"
   ]
  },
  {
   "cell_type": "code",
   "execution_count": 61,
   "id": "af97d9fd",
   "metadata": {},
   "outputs": [],
   "source": [
    "img = cv2.resize(img,(28,28))"
   ]
  },
  {
   "cell_type": "code",
   "execution_count": 63,
   "id": "a0a6082a",
   "metadata": {},
   "outputs": [
    {
     "data": {
      "text/plain": [
       "<matplotlib.image.AxesImage at 0x29b2654b1c0>"
      ]
     },
     "execution_count": 63,
     "metadata": {},
     "output_type": "execute_result"
    },
    {
     "data": {
      "image/png": "[encoded data removed]",
      "text/plain": [
       "<Figure size 640x480 with 1 Axes>"
      ]
     },
     "metadata": {},
     "output_type": "display_data"
    }
   ],
   "source": [
    "plt.imshow(img)"
   ]
  },
  {
   "cell_type": "code",
   "execution_count": 65,
   "id": "696c13e3",
   "metadata": {},
   "outputs": [],
   "source": [
    "img = img/255"
   ]
  },
  {
   "cell_type": "code",
   "execution_count": 66,
   "id": "b8a23f20",
   "metadata": {},
   "outputs": [
    {
     "data": {
      "text/plain": [
       "4"
      ]
     },
     "execution_count": 66,
     "metadata": {},
     "output_type": "execute_result"
    }
   ],
   "source": [
    "model.predict_on_batch(img.reshape(1,784)).argmax()"
   ]
  },
  {
   "cell_type": "code",
   "execution_count": 68,
   "id": "8a336491",
   "metadata": {},
   "outputs": [],
   "source": [
    "def predict_digit(path):\n",
    "    img = cv2.imread(path,0)\n",
    "    img = cv2.resize(img,(28,28))\n",
    "    img = img/255\n",
    "    return model.predict_on_batch(img.reshape(1,784)).argmax()"
   ]
  },
  {
   "cell_type": "code",
   "execution_count": 74,
   "id": "64ebbb1d",
   "metadata": {},
   "outputs": [
    {
     "data": {
      "text/plain": [
       "3"
      ]
     },
     "execution_count": 74,
     "metadata": {},
     "output_type": "execute_result"
    }
   ],
   "source": [
    "predict_digit('../../datasets/digit_recognition/my_images/3.jpg')"
   ]
  },
  {
   "cell_type": "code",
   "execution_count": 75,
   "id": "7024c6a8",
   "metadata": {},
   "outputs": [],
   "source": [
    "import os"
   ]
  },
  {
   "cell_type": "code",
   "execution_count": 77,
   "id": "e15bb0f7",
   "metadata": {},
   "outputs": [],
   "source": [
    "image_names = os.listdir('../../datasets/digit_recognition/my_images')"
   ]
  },
  {
   "cell_type": "code",
   "execution_count": 82,
   "id": "9b464384",
   "metadata": {},
   "outputs": [
    {
     "name": "stdout",
     "output_type": "stream",
     "text": [
      "0.jpg \t 4\n",
      "00.jpg \t 0\n",
      "1.jpg \t 2\n",
      "11.jpg \t 2\n",
      "2.jpg \t 2\n",
      "22.jpg \t 2\n",
      "3.jpg \t 3\n",
      "33.jpg \t 3\n",
      "4.jpg \t 8\n",
      "44.jpg \t 1\n",
      "5.jpg \t 5\n",
      "55.jpg \t 3\n",
      "6.jpg \t 6\n",
      "66.jpg \t 6\n",
      "7.jpg \t 3\n",
      "77.jpg \t 3\n",
      "8.jpg \t 8\n",
      "88.jpg \t 3\n",
      "9.jpg \t 3\n",
      "99.jpg \t 3\n"
     ]
    }
   ],
   "source": [
    "DIR = '../../datasets/digit_recognition/my_images/'\n",
    "for filename in image_names:\n",
    "    print(filename, '\\t',predict_digit(DIR+filename))"
   ]
  },
  {
   "cell_type": "code",
   "execution_count": 84,
   "id": "fcfd51e0",
   "metadata": {},
   "outputs": [
    {
     "data": {
      "text/plain": [
       "1.0"
      ]
     },
     "execution_count": 84,
     "metadata": {},
     "output_type": "execute_result"
    }
   ],
   "source": [
    "model.predict_on_batch(ip).sum()"
   ]
  },
  {
   "cell_type": "code",
   "execution_count": null,
   "id": "ef1c445f",
   "metadata": {},
   "outputs": [],
   "source": []
  }
 ],
 "metadata": {
  "kernelspec": {
   "display_name": "Python [conda env:tf_env_17]",
   "language": "python",
   "name": "conda-env-tf_env_17-py"
  },
  "language_info": {
   "codemirror_mode": {
    "name": "ipython",
    "version": 3
   },
   "file_extension": ".py",
   "mimetype": "text/x-python",
   "name": "python",
   "nbconvert_exporter": "python",
   "pygments_lexer": "ipython3",
   "version": "3.9.13"
  }
 },
 "nbformat": 4,
 "nbformat_minor": 5
}
